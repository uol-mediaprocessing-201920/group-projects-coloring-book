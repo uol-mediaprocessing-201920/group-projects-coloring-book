{
  "nbformat": 4,
  "nbformat_minor": 0,
  "metadata": {
    "colab": {
      "name": "Untitled1.ipynb",
      "provenance": [],
      "include_colab_link": true
    },
    "kernelspec": {
      "name": "python3",
      "display_name": "Python 3"
    }
  },
  "cells": [
    {
      "cell_type": "markdown",
      "metadata": {
        "id": "view-in-github",
        "colab_type": "text"
      },
      "source": [
        "<a href=\"https://colab.research.google.com/github/uol-mediaprocessing/group-projects-coloring-book/blob/master/Notes.ipynb\" target=\"_parent\"><img src=\"https://colab.research.google.com/assets/colab-badge.svg\" alt=\"Open In Colab\"/></a>"
      ]
    },
    {
      "cell_type": "code",
      "metadata": {
        "id": "767J164N4GrO",
        "colab_type": "code",
        "colab": {}
      },
      "source": [
        ""
      ],
      "execution_count": 0,
      "outputs": []
    },
    {
      "cell_type": "markdown",
      "metadata": {
        "id": "eJ30MfvF4JNP",
        "colab_type": "text"
      },
      "source": [
        "# Notizen 16.10.2019\n",
        "\n",
        "-\tColab.research.google.com\n",
        "-\tNew phyton 3 Notebook\n",
        "-\tColab.research.google.com/github/uol-mediaprocessing/…\n",
        "- colab.research.google.com/github/uol-mediaprocessing/group-projects-coloring-book\n",
        "-\tmain: colab.research.google.com/github/uol-mediaprocessing/group-projects-coloring-book/blob/master/main_coloring_book.ipynb\n",
        "\n",
        "\n",
        "-\t! wget --> Bild hochladen, aus Repository, dann URL\n",
        "-\tImport numpy as np\n",
        "-\tImport cv2\n",
        "-\t! pip install bib\n",
        "-\tAm Anfang Dateien und Bibliotheken\n",
        "-\tFile --> save a copy in GitHub --> Projekt auswählen\n",
        "-\tText: Zwischen zwei Teilen"
      ]
    },
    {
      "cell_type": "markdown",
      "metadata": {
        "id": "CChdx4HLiGPf",
        "colab_type": "text"
      },
      "source": [
        "# Notizen 22.10.2019\n",
        "\n",
        "\n",
        "* a byte of Phyton empfehlenswert\n",
        "* Dlib ähnlich OpenCV, mehr für Machine Learning\n",
        "* Dlib: image detection, face detection mehr Funktionen\n",
        "* OpenCV 3.4\n",
        "* Phyton 3 benutzen\n",
        "* Numpy und Matplotlib\n",
        "\n",
        "* **Phyton**\n",
        "* Blöcke über Einrückungen\n",
        "* Listen: unterschiedliche Datentypen; Start-Index drin, Stop-Index ausgeklammert; negative Zahlen laufen ab Ende der Liste rückwärts\n",
        "* help(l): erfahren, was alles möglich ist mit Objekt l\n",
        "* Funktionen mit def definieren\n",
        "* Attribute mit __ am Anfang: privat\n",
        "* init-Funktion bei Objekt-Initiallisierung\n",
        "* self: Objekt-Instanz, von wem Objekt, das grad initialisiert wird\n",
        "* Variable einer Instanz zuweisen\n",
        "* self angeben, um zuzugreifen\n",
        "* **Numpy**\n",
        "* import numpy as np\n",
        "* zeros: Array mit Nullen erstellen\n",
        "* random.rand. : zufällige Werte zwischen 0 und 1\n",
        "* arange: mit einem Wert (default) generiert ab 0 , mit zwei Werten Liste\n",
        "* Quadrieren: **\n",
        "* : Alle Werte abfragen\n",
        "* Bild einlesen: imread()\n",
        "* OpenCV benutzt BGR Farbraum\n",
        "* Bild = Mehrdimensionales Array\n",
        "* img[B;G;R] --> verschiedene Farbkanäle nehmen\n",
        "\n",
        "* **Präsentation**\n",
        "* vorstellen\n",
        "* Bilder selber machen\n",
        "* Szenarios erstellen\n",
        "* pdf in StudIP des Jupyter Notebooks"
      ]
    },
    {
      "cell_type": "code",
      "metadata": {
        "id": "cMFlHvpclYhw",
        "colab_type": "code",
        "colab": {}
      },
      "source": [
        ""
      ],
      "execution_count": 0,
      "outputs": []
    }
  ]
}