{
  "nbformat": 4,
  "nbformat_minor": 0,
  "metadata": {
    "colab": {
      "name": "Untitled1.ipynb",
      "provenance": [],
      "include_colab_link": true
    },
    "kernelspec": {
      "name": "python3",
      "display_name": "Python 3"
    }
  },
  "cells": [
    {
      "cell_type": "markdown",
      "metadata": {
        "id": "view-in-github",
        "colab_type": "text"
      },
      "source": [
        "<a href=\"https://colab.research.google.com/github/uol-mediaprocessing/group-projects-coloring-book/blob/master/Notes.ipynb\" target=\"_parent\"><img src=\"https://colab.research.google.com/assets/colab-badge.svg\" alt=\"Open In Colab\"/></a>"
      ]
    },
    {
      "cell_type": "code",
      "metadata": {
        "id": "767J164N4GrO",
        "colab_type": "code",
        "colab": {}
      },
      "source": [
        ""
      ],
      "execution_count": 0,
      "outputs": []
    },
    {
      "cell_type": "markdown",
      "metadata": {
        "id": "eJ30MfvF4JNP",
        "colab_type": "text"
      },
      "source": [
        "# Notizen 16.10.2019\n",
        "\n",
        "-\tColab.research.google.com\n",
        "-\tNew phyton 3 Notebook\n",
        "-\tColab.research.google.com/github/uol-mediaprocessing/…\n",
        "- colab.research.google.com/github/uol-mediaprocessing/group-projects-coloring-book\n",
        "-\tmain: colab.research.google.com/github/uol-mediaprocessing/group-projects-coloring-book/blob/master/main_coloring_book.ipynb\n",
        "\n",
        "\n",
        "-\t! wget --> Bild hochladen, aus Repository, dann URL\n",
        "-\tImport numpy as np\n",
        "-\tImport cv2\n",
        "-\t! pip install bib\n",
        "-\tAm Anfang Dateien und Bibliotheken\n",
        "-\tFile --> save a copy in GitHub --> Projekt auswählen\n",
        "-\tText: Zwischen zwei Teilen"
      ]
    }
  ]
}