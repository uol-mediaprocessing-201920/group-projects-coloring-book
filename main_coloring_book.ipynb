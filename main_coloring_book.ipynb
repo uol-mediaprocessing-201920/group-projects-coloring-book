{
  "nbformat": 4,
  "nbformat_minor": 0,
  "metadata": {
    "colab": {
      "name": "Untitled0.ipynb",
      "provenance": [],
      "include_colab_link": true
    },
    "kernelspec": {
      "name": "python3",
      "display_name": "Python 3"
    }
  },
  "cells": [
    {
      "cell_type": "markdown",
      "metadata": {
        "id": "view-in-github",
        "colab_type": "text"
      },
      "source": [
        "<a href=\"https://colab.research.google.com/github/uol-mediaprocessing/group-projects-coloring-book/blob/master/main_coloring_book.ipynb\" target=\"_parent\"><img src=\"https://colab.research.google.com/assets/colab-badge.svg\" alt=\"Open In Colab\"/></a>"
      ]
    },
    {
      "cell_type": "markdown",
      "metadata": {
        "id": "1cWLnX9Tzgiu",
        "colab_type": "text"
      },
      "source": [
        "## **Interactiv Coloring Book**\n"
      ]
    },
    {
      "cell_type": "markdown",
      "metadata": {
        "id": "x3zfzcClJG2s",
        "colab_type": "text"
      },
      "source": [
        "![alt text](https://raw.githubusercontent.com/uol-mediaprocessing/group-projects-coloring-book/master/coloring_book_picture.png)"
      ]
    },
    {
      "cell_type": "markdown",
      "metadata": {
        "id": "WJOzcE9Gx15d",
        "colab_type": "text"
      },
      "source": [
        "**Group Members**\n",
        "* Johannes Scheibe\n",
        "* Thilo von Glan \n",
        "* Jill Baumann"
      ]
    },
    {
      "cell_type": "markdown",
      "metadata": {
        "id": "tfKpXX3PJRRn",
        "colab_type": "text"
      },
      "source": [
        "## Main goal\n",
        "\"Create a coloring template out of a photo\""
      ]
    },
    {
      "cell_type": "markdown",
      "metadata": {
        "id": "PUgSMlgwsc8n",
        "colab_type": "text"
      },
      "source": [
        "**Subgoals**\n",
        "* Make and/or select images and load these images\n",
        "* Do preprocessing.\n",
        "  * Apply different filters to support the edge detection\n",
        "    * Monochrome picture.\n",
        "    * Smooth the image (Gaussian filter).\n",
        "    * Contrast adjustment.\n",
        "* Decide on a set of colours.\n",
        "  * Save/Provide these colours.\n",
        "* Handle colour space (from BGR to RGB or CIELAB)\n",
        "* Select image parts/regions\n",
        "  * Manually choose each region\n",
        "  * Or only define the number regions manually\n",
        "* Image segmentation.\n",
        "  * Possibly by using an algorithm and based on colours ((SLIC)Superpixels)\n",
        "* Color detection\n",
        "  * Assign colours from a predefined set to the regions based on their (average) colour\n",
        "* Make the boarder of each segment clearly visible (without colours), via Edge detection.\n",
        "  * Brightness variation between bordering pixels -> Edge.\n",
        "* Replace colours with appropiate, predefined numbers.\n",
        "* User interface \n",
        "  * upload the picture\n",
        "  * download the result\n",
        "  * adjust settings to get different results"
      ]
    },
    {
      "cell_type": "markdown",
      "metadata": {
        "id": "bgetIE5qbaI6",
        "colab_type": "text"
      },
      "source": [
        "# Project Planing"
      ]
    },
    {
      "cell_type": "markdown",
      "metadata": {
        "id": "tOZ-Rr1beGEV",
        "colab_type": "text"
      },
      "source": [
        "![alt text](https://github.com/uol-mediaprocessing/group-projects-coloring-book/blob/master/Planung.PNG?raw=1)"
      ]
    }
  ]
}