{
  "nbformat": 4,
  "nbformat_minor": 0,
  "metadata": {
    "colab": {
      "name": "Untitled0.ipynb",
      "provenance": [],
      "include_colab_link": true
    },
    "kernelspec": {
      "name": "python3",
      "display_name": "Python 3"
    }
  },
  "cells": [
    {
      "cell_type": "markdown",
      "metadata": {
        "id": "view-in-github",
        "colab_type": "text"
      },
      "source": [
        "<a href=\"https://colab.research.google.com/github/uol-mediaprocessing/group-projects-coloring-book/blob/master/main_coloring_book.ipynb\" target=\"_parent\"><img src=\"https://colab.research.google.com/assets/colab-badge.svg\" alt=\"Open In Colab\"/></a>"
      ]
    },
    {
      "cell_type": "markdown",
      "metadata": {
        "id": "1cWLnX9Tzgiu",
        "colab_type": "text"
      },
      "source": [
        "## **Interactiv Coloring Book**\n"
      ]
    },
    {
      "cell_type": "code",
      "metadata": {
        "id": "BHXMzmX-8O9Y",
        "colab_type": "code",
        "outputId": "4d2c73b6-2676-468a-bc8e-9e49fb52d133",
        "colab": {
          "base_uri": "https://localhost:8080/",
          "height": 217
        }
      },
      "source": [
        "! wget https://raw.githubusercontent.com/uol-mediaprocessing/group-projects-coloring-book/master/Coloringbook_picture.png\n",
        "  \n",
        "\n",
        "  "
      ],
      "execution_count": 0,
      "outputs": [
        {
          "output_type": "stream",
          "text": [
            "--2019-10-16 09:41:33--  https://raw.githubusercontent.com/uol-mediaprocessing/group-projects-coloring-book/master/Coloringbook_picture.png\n",
            "Resolving raw.githubusercontent.com (raw.githubusercontent.com)... 151.101.0.133, 151.101.64.133, 151.101.128.133, ...\n",
            "Connecting to raw.githubusercontent.com (raw.githubusercontent.com)|151.101.0.133|:443... connected.\n",
            "HTTP request sent, awaiting response... 200 OK\n",
            "Length: 910055 (889K) [image/png]\n",
            "Saving to: ‘Coloringbook_picture.png’\n",
            "\n",
            "\rColoringbook_pictur   0%[                    ]       0  --.-KB/s               \rColoringbook_pictur 100%[===================>] 888.73K  --.-KB/s    in 0.06s   \n",
            "\n",
            "2019-10-16 09:41:34 (14.0 MB/s) - ‘Coloringbook_picture.png’ saved [910055/910055]\n",
            "\n"
          ],
          "name": "stdout"
        }
      ]
    },
    {
      "cell_type": "markdown",
      "metadata": {
        "id": "itIRNaAu5g_M",
        "colab_type": "text"
      },
      "source": [
        "**Ziele**\n",
        "\n",
        "* Recherche\n",
        "* Filter anwenden, die zur besseren Unterscheidung verschiedener Bereiche beitragen\n",
        "* Kanten/Umrisse erkennen\n",
        "* Farben erkennen und Bereichen zuordnen\n",
        "\n"
      ]
    }
  ]
}