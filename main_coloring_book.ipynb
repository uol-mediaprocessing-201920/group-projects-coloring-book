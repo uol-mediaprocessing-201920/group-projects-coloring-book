{
  "nbformat": 4,
  "nbformat_minor": 0,
  "metadata": {
    "colab": {
      "name": "Untitled0.ipynb",
      "provenance": [],
      "include_colab_link": true
    },
    "kernelspec": {
      "name": "python3",
      "display_name": "Python 3"
    }
  },
  "cells": [
    {
      "cell_type": "markdown",
      "metadata": {
        "id": "view-in-github",
        "colab_type": "text"
      },
      "source": [
        "<a href=\"https://colab.research.google.com/github/uol-mediaprocessing/group-projects-coloring-book/blob/master/main_coloring_book.ipynb\" target=\"_parent\"><img src=\"https://colab.research.google.com/assets/colab-badge.svg\" alt=\"Open In Colab\"/></a>"
      ]
    },
    {
      "cell_type": "markdown",
      "metadata": {
        "id": "1cWLnX9Tzgiu",
        "colab_type": "text"
      },
      "source": [
        "## **Interactiv Coloring Book**\n"
      ]
    },
    {
      "cell_type": "markdown",
      "metadata": {
        "id": "x3zfzcClJG2s",
        "colab_type": "text"
      },
      "source": [
        "![alt text](https://raw.githubusercontent.com/uol-mediaprocessing/group-projects-coloring-book/master/coloring_book_picture.png)"
      ]
    },
    {
      "cell_type": "markdown",
      "metadata": {
        "id": "WJOzcE9Gx15d",
        "colab_type": "text"
      },
      "source": [
        "**Group Members**\n",
        "* Johannes Scheibe\n",
        "* Thilo von Glan \n",
        "* Jill Baumann"
      ]
    },
    {
      "cell_type": "markdown",
      "metadata": {
        "id": "tfKpXX3PJRRn",
        "colab_type": "text"
      },
      "source": [
        "## Main goal\n",
        "\"Create a coloring template out of a photo\""
      ]
    },
    {
      "cell_type": "markdown",
      "metadata": {
        "id": "itIRNaAu5g_M",
        "colab_type": "text"
      },
      "source": [
        "**Subtasks**\n",
        "\n",
        "Make and/or select images and load these images\n",
        "* Handle color space (from BGR to RGB or CIELAB)\n",
        "  \n",
        "Segmentate the image into sensible parts/regions/segments\n",
        "* Different methods possible\n",
        "  * manually choose each region\n",
        "  * define the number of regions manually\n",
        "  * recognize regions automatically, based on color differences \n",
        "    * opportunity to change parameters\n",
        "* Algorithms\n",
        "  * Preprocessing\n",
        "    * apply different filters to support the edge detection\n",
        "      * monochrome picture\n",
        "      * smooth the image (Gaussian filter)\n",
        "      * contrast adjustment \n",
        "  * Edge detection\n",
        "    * brightness variation between bordering pixels -> Edge\n",
        "  * Image segmentation\n",
        "    * region growing\n",
        "    * based on colors ((SLIC)Superpixels)\n",
        "\n",
        "Make the boarder of each segment clearly visible (without colours)\n",
        "\n",
        "Provide these colors\n",
        "* Color detection\n",
        "  * define a set of colors\n",
        "  * assign colors from the predefined set to the regions based on their (average) color\n",
        "  * replace colors with appropiate, predefined numbers\n",
        "\n",
        "User interface \n",
        "* upload the picture\n",
        "* download the result\n",
        "* adjust settings to get different results\n",
        "\n",
        "\n"
      ]
    },
    {
      "cell_type": "markdown",
      "metadata": {
        "id": "bgetIE5qbaI6",
        "colab_type": "text"
      },
      "source": [
        "# Project Planing"
      ]
    },
    {
      "cell_type": "markdown",
      "metadata": {
        "id": "tOZ-Rr1beGEV",
        "colab_type": "text"
      },
      "source": [
        "![alt text](https://github.com/uol-mediaprocessing/group-projects-coloring-book/blob/master/Planung.PNG?raw=1)"
      ]
    }
  ]
}