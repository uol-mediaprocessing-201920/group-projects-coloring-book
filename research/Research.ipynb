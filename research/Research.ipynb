{
  "nbformat": 4,
  "nbformat_minor": 0,
  "metadata": {
    "colab": {
      "name": "Untitled1.ipynb",
      "provenance": [],
      "toc_visible": true,
      "include_colab_link": true
    },
    "kernelspec": {
      "name": "python3",
      "display_name": "Python 3"
    }
  },
  "cells": [
    {
      "cell_type": "markdown",
      "metadata": {
        "id": "view-in-github",
        "colab_type": "text"
      },
      "source": [
        "<a href=\"https://colab.research.google.com/github/uol-mediaprocessing/group-projects-coloring-book/blob/master/research/Research.ipynb\" target=\"_parent\"><img src=\"https://colab.research.google.com/assets/colab-badge.svg\" alt=\"Open In Colab\"/></a>"
      ]
    },
    {
      "cell_type": "markdown",
      "metadata": {
        "id": "vMLaPDRHGVkX",
        "colab_type": "text"
      },
      "source": [
        "# Research"
      ]
    },
    {
      "cell_type": "markdown",
      "metadata": {
        "id": "TXNsiqo2Gc_o",
        "colab_type": "text"
      },
      "source": [
        "# Image Segmantation and Region Growing\n",
        "\n",
        "**Unsupervised vs. Supervised Segmentation**: Do we give certain input to define were we want the segmentations or do we let the program automatically define that.\n",
        "\n",
        "**Thresholding**: Every Pixel for which a certain threshold is true is taken\n",
        "Active Contour Segmentation: A contour is given and then slowly contracts being attracted or repelled by light and edges, so basically a handmade segmentation which then automatically gets improved on.\n",
        "\n",
        "**Random walker Segmentation**: A small Number of pixels are used as labels. These labels can for example be the inside and outside of a segment. The algorithm will then start different walkers which will try to reach a labelled pixel and those with the highest probability to do so are selected. This should determine natural boarders with the right input.\n",
        "\n",
        "**Simple Linear Iterative Clustering (SLIC)**: This algorithm takes in all the pixel values and tries to separate them based on a given number of sub-regions. It works with colours and all regions of the image are then set to the average colour making it look like it was decomposed into areas that are kind of similar.\n",
        "\n",
        "**Histogram**: Showing all pixels in an image with their different intensity values\n",
        "\n",
        "**K-Means Image Segmantation**: A Value k is given and the algorithm first assigns these k's orderly unto the picture (In our case). Then each k will look at the average colour it has and how far away other pixels of this colour are. Each k then tries to find the optimal mix of how far awy the pixel is and how much closer it is to its colour than it is to the colour of the pixel it is currently inside. In the end all k's will have suffled into sensible shapes.\n",
        "\n",
        "research.google.com/seedbank"
      ]
    },
    {
      "cell_type": "markdown",
      "metadata": {
        "id": "3GT-L2RdScvm",
        "colab_type": "text"
      },
      "source": [
        "# Which Image Format?\n",
        "There are **raster** and **vector** images.\n",
        "```\n",
        "\n",
        "```\n",
        "**Raster** images are in formats like .JPG, .GIF, .TIF., .BMP, or .PNG. They're \"made of up of a set number of pixels, and can only be scaled up to a certain point before losing their resolution\".\n",
        "```\n",
        "\n",
        "```\n",
        "**Vector** images \"are not made up of pixels. They are made up of lines created through mathematical equations, and are scalable to any size, making them ideal for any printing situation. These types of files usually end in .SVG, .EPS, or .PDF, and are most commonly used in illustrations\". \n",
        "\n",
        "```\n",
        "\n",
        "```\n",
        "\n",
        "So we should use **vector** images."
      ]
    },
    {
      "cell_type": "markdown",
      "metadata": {
        "id": "n9VtdkQjoSiI",
        "colab_type": "text"
      },
      "source": [
        "# Steps\n",
        "\n",
        "\n",
        "\n",
        "1. Bild bearbeiten\n",
        "\n",
        "Hier ist noch nicht ganz klar, welche Form von Bearbeitung und Filtern wirklich notwendig bzw. hilfreich sind. Wir sollten auf jeden Fall einige verschiedene ausprobieren.\n",
        "\n",
        "2. Segemtieren und Farben vereinheitlichen\n",
        "\n",
        "https://medium.com/@darshita1405/superpixels-and-slic-6b2d8a6e4f08\n",
        "\n",
        "https://github.com/darshitajain/SLIC\n",
        "\n",
        "Aus dem Github können wir einen großen Teil unseres Codes zur Bild Segmentation ziehen. Am Ende dieses Prozesses sollten wir ein Bild mit einigen Superpixeln haben, die jeweils nur eine Farbe haben.\n",
        "\n",
        "3. Klare Grenzen ziehen\n",
        "\n",
        "https://www.pyimagesearch.com/2014/07/28/a-slic-superpixel-tutorial-using-python/\n",
        "\n",
        "https://scikit-image.org/docs/dev/api/skimage.segmentation.html#skimage.segmentation.slic\n",
        "\n",
        "Hier finden wir code und eine Bib zum markieren der boarder der Superpixel. Dies ist natürlich notwendig, da wir ja klare Grenzen auf dem Bild zum ausmalen haben wollen.\n",
        "\n",
        "4. Farben eine von x Farben zuweisen\n",
        "\n",
        "Hier müssen wir uns noch auf x Farben festlegen und brauchen dann wahrscheinlich einen Algorithmus, der jedem Superpixel looped und besagt: suche dir die Farbe aus den x Farben, welche deiner am nächsten ist\n",
        "\n",
        "5. Farben entfernen und durch Zahlen austauschen\n",
        "\n",
        "Wenn wir wirklich ein Malen nach Zahlen erschaffen wollen sollten wir in einem letzten Schritt (oder bereits direkt im Schritt davor) erneut über jeden Superpixel loopen und je nachdem, welche Farbe er besitz eine bestimmte Zahl in in hinein schreiben und dafür die Farbe entfernen. Herausforderng könnte hier speziel sein die Zahlen leserlich rein zu schreiben. Alternativ könnte man auch zwei Versionen machen und die Zahlen in die Farblose (Nur Grenzen) händisch einfügen"
      ]
    },
    {
      "cell_type": "code",
      "metadata": {
        "id": "gSeIv7sfTTXU",
        "colab_type": "code",
        "colab": {}
      },
      "source": [
        ""
      ],
      "execution_count": 0,
      "outputs": []
    }
  ]
}